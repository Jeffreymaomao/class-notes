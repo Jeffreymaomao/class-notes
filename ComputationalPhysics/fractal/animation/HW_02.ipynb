{
 "cells": [
  {
   "cell_type": "code",
   "execution_count": 31,
   "id": "dba3110f",
   "metadata": {},
   "outputs": [],
   "source": [
    "# Import packages here\n",
    "import numpy as np\n",
    "import matplotlib.pyplot as plt\n",
    "from scipy.optimize import newton\n",
    "import warnings\n",
    "import os\n",
    "import cv2\n",
    "\n",
    "plt.rcParams[\"font.family\"] = \"Times New Roman\"\n",
    "plt.rcParams[\"text.usetex\"] = True"
   ]
  },
  {
   "cell_type": "code",
   "execution_count": 4,
   "id": "87a9ac54",
   "metadata": {},
   "outputs": [],
   "source": [
    "def Newton(f, x0, fprime=None, n=1):\n",
    "    h = 1e-8\n",
    "    if fprime==None:\n",
    "        fprime = lambda x: (f(x+h)-f(x-h))/2/h\n",
    "    for i in range(n):\n",
    "        x0 = x0 - f(x0)/fprime(x0)\n",
    "    return x0"
   ]
  },
  {
   "cell_type": "code",
   "execution_count": 5,
   "id": "16a9ccf8",
   "metadata": {},
   "outputs": [],
   "source": [
    "# Write your code here\n",
    "f = lambda z: z**3 - 1\n",
    "fprime = lambda z: 3*z**2\n",
    "\n",
    "z1 = newton(f, 0.5+0.0j, fprime = fprime)\n",
    "z2 = newton(f, 0.0+0.5j, fprime = fprime)\n",
    "z3 = newton(f, 0.0-0.5j, fprime = fprime)\n",
    "\n",
    "roots = np.array([z1,z2,z3])"
   ]
  },
  {
   "cell_type": "code",
   "execution_count": 6,
   "id": "71bdc9bc",
   "metadata": {},
   "outputs": [],
   "source": [
    "def newton_fractal(n, fromZ, toZ):\n",
    "    # ------ generate z0 ----------------------------------------------------------------                    \n",
    "    x = np.linspace(fromZ,toZ,n)               \n",
    "    (z0_r, z0_i) = np.meshgrid(x,x*1j)    \n",
    "    z0 = z0_r + z0_i                      \n",
    "    # ------ solving z* -----------------------------------------------------------------\n",
    "    z  = newton(f, z0, fprime=fprime)      \n",
    "    z_ = Newton(f, z0, fprime=fprime, n=6)\n",
    "    # ------ solving min distance -------------------------------------------------------\n",
    "    roots_n = roots.size                  \n",
    "    dis     = np.zeros([roots_n, n, n])       \n",
    "    dis_    = np.zeros([roots_n, n, n])       \n",
    "    for i in range(roots_n):              \n",
    "        dis[i]  = np.abs(z  - roots[i])     \n",
    "        dis_[i] = np.abs(z_ - roots[i])\n",
    "    min_dis = (np.round(dis)==0)*1.0      \n",
    "    # ------ scale function -------------------------------------------------------------\n",
    "    scale   = dis_/4\n",
    "    scale = 1.0 - 0.5*scale**0.1\n",
    "    scale[scale>1.0] = 1.0\n",
    "    scale[scale<0.0] = 0.0\n",
    "    # ------ saving image ---------------------------------------------------------------\n",
    "    min_dis = min_dis * scale                   \n",
    "    img = np.transpose(min_dis,(1,2,0))   \n",
    "    img = (img*255).astype(np.uint8)\n",
    "    return img"
   ]
  },
  {
   "cell_type": "code",
   "execution_count": 7,
   "id": "e77ee691",
   "metadata": {},
   "outputs": [],
   "source": [
    "def save_fractal(fractal, folder, dpi, figsize):\n",
    "    fig = plt.figure(dpi=dpi, figsize=figsize)\n",
    "    plt.imshow(fractal, interpolation='nearest',origin='lower')\n",
    "    plt.axis('off')\n",
    "    plt.savefig(folder, bbox_inches='tight',pad_inches=0)\n",
    "    plt.close()"
   ]
  },
  {
   "cell_type": "code",
   "execution_count": 8,
   "id": "54a8529a",
   "metadata": {},
   "outputs": [],
   "source": [
    "def image_name(folder,i):\n",
    "    return \"%s/fractal%d.png\"%(folder,i)"
   ]
  },
  {
   "cell_type": "code",
   "execution_count": 15,
   "id": "3322d723",
   "metadata": {},
   "outputs": [],
   "source": [
    "# to video\n",
    "def create_video(image_folder, video_name, N, fps=1):\n",
    "    fourcc = cv2.VideoWriter_fourcc(*'MP4V')\n",
    "    images = [img for img in os.listdir(image_folder) if img.endswith(\".png\")]\n",
    "    frame = cv2.imread(os.path.join(image_folder, images[0]))\n",
    "    height, width, layers = frame.shape\n",
    "\n",
    "    video = cv2.VideoWriter(video_name, fourcc, fps, (width,height))\n",
    "    for i in range(N):\n",
    "        video.write(cv2.imread( image_name(image_folder,i) ))\n",
    "\n",
    "    cv2.destroyAllWindows()\n",
    "    video.release()"
   ]
  },
  {
   "cell_type": "code",
   "execution_count": 32,
   "id": "54babc0c",
   "metadata": {
    "scrolled": true
   },
   "outputs": [],
   "source": [
    "dz = 0.01\n",
    "z = np.arange(dz,1,dz)\n",
    "warnings.filterwarnings('ignore')\n",
    "for i in range(len(z)):\n",
    "    n  = 100\n",
    "    z1 = -z[i]\n",
    "    z2 = z[i]\n",
    "    dpi = 100\n",
    "    size = (10,10)\n",
    "    if not os.path.isdir(\"%d\"%n):\n",
    "        os.mkdir(\"%d\"%n)\n",
    "    file = image_name(str(n),i)\n",
    "\n",
    "    fractal = newton_fractal(n, z1, z2)\n",
    "    save_fractal(fractal, file, dpi, size)"
   ]
  },
  {
   "cell_type": "code",
   "execution_count": 33,
   "id": "187de145",
   "metadata": {},
   "outputs": [],
   "source": [
    "create_video(str(n),\"fractal%d.mp4\"%n, len(z), fps=30)"
   ]
  }
 ],
 "metadata": {
  "kernelspec": {
   "display_name": "Python 3",
   "language": "python",
   "name": "python3"
  },
  "language_info": {
   "codemirror_mode": {
    "name": "ipython",
    "version": 3
   },
   "file_extension": ".py",
   "mimetype": "text/x-python",
   "name": "python",
   "nbconvert_exporter": "python",
   "pygments_lexer": "ipython3",
   "version": "3.9.2"
  }
 },
 "nbformat": 4,
 "nbformat_minor": 5
}
